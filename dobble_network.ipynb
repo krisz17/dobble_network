{
 "cells": [
  {
   "cell_type": "markdown",
   "id": "7097dbf4-66ad-47c5-bf71-8ebdadb0e318",
   "metadata": {},
   "source": [
    "## Importowanie bibliotek oraz danych"
   ]
  },
  {
   "cell_type": "code",
   "execution_count": 1,
   "id": "16e84178-e15e-4dfc-997d-f8ed140f9d3c",
   "metadata": {},
   "outputs": [
    {
     "name": "stderr",
     "output_type": "stream",
     "text": [
      "Using TensorFlow backend.\n"
     ]
    }
   ],
   "source": [
    "import numpy as np\n",
    "import matplotlib.pyplot as plt\n",
    "\n",
    "from keras.layers import Input, Flatten, Dense, concatenate\n",
    "from keras.models import Model\n",
    "from keras.optimizers import Adam\n",
    "from keras.utils import to_categorical\n",
    "\n",
    "from keras.datasets import cifar10"
   ]
  },
  {
   "cell_type": "code",
   "execution_count": 2,
   "id": "299f01ed-b24c-469b-8f08-53d24a08e846",
   "metadata": {},
   "outputs": [],
   "source": [
    "NUM_CLASSES = 10"
   ]
  },
  {
   "cell_type": "code",
   "execution_count": 3,
   "id": "49fb50f5-4f3b-4e88-9054-bdbcd5337f4a",
   "metadata": {},
   "outputs": [],
   "source": [
    "(x_train, y_train), (x_test, y_test) = cifar10.load_data()"
   ]
  },
  {
   "cell_type": "code",
   "execution_count": 4,
   "id": "363d050c-c541-4fab-9eae-aeaf2bb144cf",
   "metadata": {},
   "outputs": [],
   "source": [
    "x_train = x_train.astype('float32') / 255.0\n",
    "x_test = x_test.astype('float32') / 255.0\n",
    "\n",
    "y_train = to_categorical(y_train, NUM_CLASSES)\n",
    "y_test = to_categorical(y_test, NUM_CLASSES)"
   ]
  },
  {
   "cell_type": "markdown",
   "id": "1abed133-9e73-48bf-bc99-e5f92d21cd6e",
   "metadata": {},
   "source": [
    "W moim ćwiczeniu potrzebuję na wejściu stworzyć 7 wejść, możliwe nachodzących na siebie. Dlatego muszę zrezygnować z warstwy Flatten i wykonać spłaszczenie wymiaru obrazu jeszcze przed etapem "
   ]
  },
  {
   "cell_type": "code",
   "execution_count": 5,
   "id": "dce25772-a0fa-4510-b48d-f57a321bc626",
   "metadata": {},
   "outputs": [],
   "source": [
    "flat = np.prod(x_train.shape[1:])"
   ]
  },
  {
   "cell_type": "code",
   "execution_count": 6,
   "id": "60475de1-3c96-4927-bc74-89a111b54028",
   "metadata": {},
   "outputs": [],
   "source": [
    "x_train_bis = x_train.reshape(len(x_train), flat)   # (liczba wierszy, flatten)\n",
    "x_test_bis = x_test.reshape(len(x_test), flat)   # (liczba wierszy, flatten)\n"
   ]
  },
  {
   "cell_type": "code",
   "execution_count": 7,
   "id": "7a1a9b2a-413a-4f8e-a904-3904b46fb8ee",
   "metadata": {},
   "outputs": [
    {
     "name": "stdout",
     "output_type": "stream",
     "text": [
      "(50000, 3072)\n",
      "(10000, 3072)\n"
     ]
    }
   ],
   "source": [
    "print(x_train_bis.shape)\n",
    "print(x_test_bis.shape)\n"
   ]
  },
  {
   "cell_type": "markdown",
   "id": "cf789236-3e92-4c0d-bfbb-824979677f0d",
   "metadata": {},
   "source": [
    "W następnym kroku tworzę po 7 podzbiorów treningu oraz testu w rozumieniu \"cech\" ze zbioru treningowego. Podzbiory mogą na siebie nachodzić analogicznie jak nachodza na siebie cechy w sieci splotowej przy wyborze kilku kanałów. Chciałbym aby zbiory nachodziły na siebie w 33%% z sąsiednimi podzbiorami. Mamy 3072 elementów więc 3072/7*1.66=729 elementów. Zbiory więc nachodzą  w 243 elementach na lewo i prawo"
   ]
  },
  {
   "cell_type": "code",
   "execution_count": 8,
   "id": "b5c26ca8-56a7-4a64-84ca-569b23b94d6c",
   "metadata": {},
   "outputs": [],
   "source": [
    "X_train_pik = x_train_bis[:, list(np.arange(0,2*243))+list(np.arange(3072-243,3072))]\n",
    "X_train_kier = x_train_bis[:, list(np.arange(0,3*243))]\n",
    "X_train_trefl = x_train_bis[:, list(np.arange(243,4*243))]\n",
    "X_train_drop  = x_train_bis[:, list(np.arange(2*243,5*243))]\n",
    "X_train_sun  = x_train_bis[:, list(np.arange(3*243,6*243))]\n",
    "x_train_flow = x_train_bis[:, list(np.arange(4*243,7*243))]\n",
    "X_train_inf = x_train_bis[:, list(np.arange(5*243,7*243))+list(np.arange(0,243))]\n",
    "\n",
    "\n",
    "X_test_pik = x_test_bis[:, list(np.arange(0,2*243))+list(np.arange(3072-243,3072))]\n",
    "X_test_kier = x_test_bis[:, list(np.arange(0,3*243))]\n",
    "X_test_trefl = x_test_bis[:, list(np.arange(243,4*243))]\n",
    "X_test_drop  = x_test_bis[:, list(np.arange(2*243,5*243))]\n",
    "X_test_sun  = x_test_bis[:, list(np.arange(3*243,6*243))]\n",
    "x_test_flow = x_test_bis[:, list(np.arange(4*243,7*243))]\n",
    "X_test_inf = x_test_bis[:, list(np.arange(5*243,7*243))+list(np.arange(0,243))]\n"
   ]
  },
  {
   "cell_type": "code",
   "execution_count": 9,
   "id": "14c5473e-4260-4561-9a4e-e7791151c682",
   "metadata": {},
   "outputs": [
    {
     "name": "stdout",
     "output_type": "stream",
     "text": [
      "(50000, 729)\n",
      "(50000, 729)\n",
      "(50000, 729)\n",
      "(50000, 729)\n",
      "(50000, 729)\n",
      "(50000, 729)\n",
      "(50000, 729)\n"
     ]
    }
   ],
   "source": [
    "#sprawdzam czy liczności się w miarę spinają\n",
    "print(X_train_pik.shape)\n",
    "print(X_train_kier.shape)\n",
    "print(X_train_trefl.shape)\n",
    "print(X_train_drop.shape)\n",
    "print(X_train_sun.shape)\n",
    "print(x_train_flow.shape)\n",
    "print(X_train_inf.shape)\n"
   ]
  },
  {
   "cell_type": "markdown",
   "id": "afcbe53e-79a0-457d-a436-6d7ff7bdf115",
   "metadata": {},
   "source": [
    "Teraz przygotowuję topologię mojej sieci. Węzeł Dense wymaga płaskiego wejścia i takie dostanie"
   ]
  },
  {
   "cell_type": "code",
   "execution_count": 10,
   "id": "d682fa9b-77d5-49ea-94b1-3aa09a5c8f41",
   "metadata": {},
   "outputs": [
    {
     "name": "stderr",
     "output_type": "stream",
     "text": [
      "WARNING: Logging before flag parsing goes to stderr.\n",
      "W0112 00:24:56.876983 20212 module_wrapper.py:139] From E:\\Python\\Anaconda\\envs\\generative\\lib\\site-packages\\keras\\backend\\tensorflow_backend.py:517: The name tf.placeholder is deprecated. Please use tf.compat.v1.placeholder instead.\n",
      "\n",
      "W0112 00:24:56.888991 20212 module_wrapper.py:139] From E:\\Python\\Anaconda\\envs\\generative\\lib\\site-packages\\keras\\backend\\tensorflow_backend.py:4138: The name tf.random_uniform is deprecated. Please use tf.random.uniform instead.\n",
      "\n"
     ]
    }
   ],
   "source": [
    "#warstwa wejść. Swiadomie nie korzystam z interfejsu podklasowego w którym nie mógłbym wyświelić struktury modelu\n",
    "input_pik = Input(shape=[729], name ='pik')\n",
    "input_kier = Input(shape=[729], name ='kier')\n",
    "input_trefl = Input(shape=[729], name ='trefl')\n",
    "input_drop  = Input(shape=[729], name ='drop')\n",
    "input_sun  = Input(shape=[729], name ='sun')\n",
    "input_flow = Input(shape=[729], name ='flow')\n",
    "input_inf = Input(shape=[729], name ='inf')\n",
    "\n",
    "#teraz dla każdego wejścia trenuję po jednym Dense w warstwie ukrytej\n",
    "hi_pik = Dense(150, activation = 'relu')(input_pik)\n",
    "hi_kier = Dense(150, activation = 'relu')(input_kier)\n",
    "hi_trefl = Dense(150, activation = 'relu')(input_trefl)\n",
    "hi_drop  = Dense(150, activation = 'relu')(input_drop)\n",
    "hi_sun  = Dense(150, activation = 'relu')(input_sun)\n",
    "hi_flow = Dense(150, activation = 'relu')(input_flow)\n",
    "hi_inf = Dense(150, activation = 'relu')(input_inf)\n",
    "\n",
    "#teraz warstwy konkatenacji po 3 elementy Dense\n",
    "\n",
    "concat1 = concatenate([hi_pik, hi_sun, hi_inf])\n",
    "concat2 = concatenate([hi_inf,hi_kier,hi_flow])\n",
    "concat3 = concatenate([hi_inf,hi_trefl, hi_drop])\n",
    "concat4 = concatenate([hi_drop,hi_pik,hi_flow])\n",
    "concat5 = concatenate([hi_drop,hi_kier,hi_sun])\n",
    "concat6 = concatenate([hi_sun,hi_trefl,hi_flow])\n",
    "concat7 = concatenate([hi_pik,hi_trefl, hi_kier])\n",
    "\n",
    "#konkatenacja master: do zastanowienia czy same warstwy concat_ czy również dane wejściowe albo nawet warstwy ukryte\n",
    "concat_master = concatenate([concat1,concat2,concat3,concat4,concat5,concat6,concat7])\n",
    "output = Dense(NUM_CLASSES, activation = 'softmax')(concat_master)\n",
    "\n",
    "model = Model(inputs = [input_pik, input_kier, input_trefl, input_drop, input_sun, input_flow, input_inf] , outputs =  [output])\n",
    "\n"
   ]
  },
  {
   "cell_type": "code",
   "execution_count": 11,
   "id": "12056034-283e-4f5d-81c6-3a70abaa3be3",
   "metadata": {},
   "outputs": [
    {
     "name": "stdout",
     "output_type": "stream",
     "text": [
      "__________________________________________________________________________________________________\n",
      "Layer (type)                    Output Shape         Param #     Connected to                     \n",
      "==================================================================================================\n",
      "pik (InputLayer)                (None, 729)          0                                            \n",
      "__________________________________________________________________________________________________\n",
      "sun (InputLayer)                (None, 729)          0                                            \n",
      "__________________________________________________________________________________________________\n",
      "inf (InputLayer)                (None, 729)          0                                            \n",
      "__________________________________________________________________________________________________\n",
      "kier (InputLayer)               (None, 729)          0                                            \n",
      "__________________________________________________________________________________________________\n",
      "flow (InputLayer)               (None, 729)          0                                            \n",
      "__________________________________________________________________________________________________\n",
      "trefl (InputLayer)              (None, 729)          0                                            \n",
      "__________________________________________________________________________________________________\n",
      "drop (InputLayer)               (None, 729)          0                                            \n",
      "__________________________________________________________________________________________________\n",
      "dense_1 (Dense)                 (None, 150)          109500      pik[0][0]                        \n",
      "__________________________________________________________________________________________________\n",
      "dense_5 (Dense)                 (None, 150)          109500      sun[0][0]                        \n",
      "__________________________________________________________________________________________________\n",
      "dense_7 (Dense)                 (None, 150)          109500      inf[0][0]                        \n",
      "__________________________________________________________________________________________________\n",
      "dense_2 (Dense)                 (None, 150)          109500      kier[0][0]                       \n",
      "__________________________________________________________________________________________________\n",
      "dense_6 (Dense)                 (None, 150)          109500      flow[0][0]                       \n",
      "__________________________________________________________________________________________________\n",
      "dense_3 (Dense)                 (None, 150)          109500      trefl[0][0]                      \n",
      "__________________________________________________________________________________________________\n",
      "dense_4 (Dense)                 (None, 150)          109500      drop[0][0]                       \n",
      "__________________________________________________________________________________________________\n",
      "concatenate_1 (Concatenate)     (None, 450)          0           dense_1[0][0]                    \n",
      "                                                                 dense_5[0][0]                    \n",
      "                                                                 dense_7[0][0]                    \n",
      "__________________________________________________________________________________________________\n",
      "concatenate_2 (Concatenate)     (None, 450)          0           dense_7[0][0]                    \n",
      "                                                                 dense_2[0][0]                    \n",
      "                                                                 dense_6[0][0]                    \n",
      "__________________________________________________________________________________________________\n",
      "concatenate_3 (Concatenate)     (None, 450)          0           dense_7[0][0]                    \n",
      "                                                                 dense_3[0][0]                    \n",
      "                                                                 dense_4[0][0]                    \n",
      "__________________________________________________________________________________________________\n",
      "concatenate_4 (Concatenate)     (None, 450)          0           dense_4[0][0]                    \n",
      "                                                                 dense_1[0][0]                    \n",
      "                                                                 dense_6[0][0]                    \n",
      "__________________________________________________________________________________________________\n",
      "concatenate_5 (Concatenate)     (None, 450)          0           dense_4[0][0]                    \n",
      "                                                                 dense_2[0][0]                    \n",
      "                                                                 dense_5[0][0]                    \n",
      "__________________________________________________________________________________________________\n",
      "concatenate_6 (Concatenate)     (None, 450)          0           dense_5[0][0]                    \n",
      "                                                                 dense_3[0][0]                    \n",
      "                                                                 dense_6[0][0]                    \n",
      "__________________________________________________________________________________________________\n",
      "concatenate_7 (Concatenate)     (None, 450)          0           dense_1[0][0]                    \n",
      "                                                                 dense_3[0][0]                    \n",
      "                                                                 dense_2[0][0]                    \n",
      "__________________________________________________________________________________________________\n",
      "concatenate_8 (Concatenate)     (None, 3150)         0           concatenate_1[0][0]              \n",
      "                                                                 concatenate_2[0][0]              \n",
      "                                                                 concatenate_3[0][0]              \n",
      "                                                                 concatenate_4[0][0]              \n",
      "                                                                 concatenate_5[0][0]              \n",
      "                                                                 concatenate_6[0][0]              \n",
      "                                                                 concatenate_7[0][0]              \n",
      "__________________________________________________________________________________________________\n",
      "dense_8 (Dense)                 (None, 10)           31510       concatenate_8[0][0]              \n",
      "==================================================================================================\n",
      "Total params: 798,010\n",
      "Trainable params: 798,010\n",
      "Non-trainable params: 0\n",
      "__________________________________________________________________________________________________\n"
     ]
    }
   ],
   "source": [
    "model.summary()"
   ]
  },
  {
   "cell_type": "code",
   "execution_count": 12,
   "id": "74b0e5d6-af75-4f0d-8030-be89401598fd",
   "metadata": {},
   "outputs": [
    {
     "name": "stderr",
     "output_type": "stream",
     "text": [
      "W0112 00:25:07.671469 20212 module_wrapper.py:139] From E:\\Python\\Anaconda\\envs\\generative\\lib\\site-packages\\keras\\optimizers.py:790: The name tf.train.Optimizer is deprecated. Please use tf.compat.v1.train.Optimizer instead.\n",
      "\n",
      "W0112 00:25:07.677129 20212 module_wrapper.py:139] From E:\\Python\\Anaconda\\envs\\generative\\lib\\site-packages\\keras\\backend\\tensorflow_backend.py:3295: The name tf.log is deprecated. Please use tf.math.log instead.\n",
      "\n"
     ]
    }
   ],
   "source": [
    "opt = Adam(lr=0.0005)\n",
    "model.compile(loss='categorical_crossentropy', optimizer=opt, metrics=['accuracy'])"
   ]
  },
  {
   "cell_type": "markdown",
   "id": "c4d245b1-be46-4889-8c4c-1918e580ceb4",
   "metadata": {},
   "source": [
    "Dorzucam jeszcze funkcję do zapisywania historii procesu szkolenia modelu aby móc go porównać z prostym modelem sekwencyjnym"
   ]
  },
  {
   "cell_type": "code",
   "execution_count": 13,
   "id": "87bc43c4-ffd5-4b65-bde1-01c86dcfa5d7",
   "metadata": {},
   "outputs": [],
   "source": [
    "import os\n",
    "import datetime\n",
    "#print(os.curdir)\n",
    "root_logdir = os.path.join(os.curdir,'historia')\n",
    "\n",
    "def get_run_logdir():\n",
    "    import time\n",
    "    run_id = time.strftime(\"przebieg_%Y_%m_%d-%H_%M_%S\")\n",
    "    return os.path.join(root_logdir,run_id)"
   ]
  },
  {
   "cell_type": "code",
   "execution_count": 14,
   "id": "34d7e7f9-83ef-4af6-9608-500a423c5cf3",
   "metadata": {},
   "outputs": [
    {
     "name": "stderr",
     "output_type": "stream",
     "text": [
      "W0112 00:25:15.965977 20212 deprecation.py:323] From E:\\Python\\Anaconda\\envs\\generative\\lib\\site-packages\\tensorflow_core\\python\\ops\\math_grad.py:1424: where (from tensorflow.python.ops.array_ops) is deprecated and will be removed in a future version.\n",
      "Instructions for updating:\n",
      "Use tf.where in 2.0, which has the same broadcast rule as np.where\n",
      "W0112 00:25:16.027771 20212 module_wrapper.py:139] From E:\\Python\\Anaconda\\envs\\generative\\lib\\site-packages\\keras\\backend\\tensorflow_backend.py:986: The name tf.assign_add is deprecated. Please use tf.compat.v1.assign_add instead.\n",
      "\n",
      "W0112 00:25:16.122684 20212 module_wrapper.py:139] From E:\\Python\\Anaconda\\envs\\generative\\lib\\site-packages\\keras\\backend\\tensorflow_backend.py:973: The name tf.assign is deprecated. Please use tf.compat.v1.assign instead.\n",
      "\n",
      "W0112 00:25:16.223031 20212 module_wrapper.py:139] From E:\\Python\\Anaconda\\envs\\generative\\lib\\site-packages\\keras\\backend\\tensorflow_backend.py:2741: The name tf.Session is deprecated. Please use tf.compat.v1.Session instead.\n",
      "\n",
      "W0112 00:25:16.298864 20212 module_wrapper.py:139] From E:\\Python\\Anaconda\\envs\\generative\\lib\\site-packages\\keras\\backend\\tensorflow_backend.py:174: The name tf.get_default_session is deprecated. Please use tf.compat.v1.get_default_session instead.\n",
      "\n",
      "W0112 00:25:16.314476 20212 module_wrapper.py:139] From E:\\Python\\Anaconda\\envs\\generative\\lib\\site-packages\\keras\\backend\\tensorflow_backend.py:181: The name tf.ConfigProto is deprecated. Please use tf.compat.v1.ConfigProto instead.\n",
      "\n",
      "W0112 00:25:16.421437 20212 module_wrapper.py:139] From E:\\Python\\Anaconda\\envs\\generative\\lib\\site-packages\\keras\\backend\\tensorflow_backend.py:190: The name tf.global_variables is deprecated. Please use tf.compat.v1.global_variables instead.\n",
      "\n",
      "W0112 00:25:16.421437 20212 module_wrapper.py:139] From E:\\Python\\Anaconda\\envs\\generative\\lib\\site-packages\\keras\\backend\\tensorflow_backend.py:199: The name tf.is_variable_initialized is deprecated. Please use tf.compat.v1.is_variable_initialized instead.\n",
      "\n",
      "W0112 00:25:16.479735 20212 module_wrapper.py:139] From E:\\Python\\Anaconda\\envs\\generative\\lib\\site-packages\\keras\\backend\\tensorflow_backend.py:206: The name tf.variables_initializer is deprecated. Please use tf.compat.v1.variables_initializer instead.\n",
      "\n"
     ]
    },
    {
     "name": "stdout",
     "output_type": "stream",
     "text": [
      "Epoch 1/20\n",
      "50000/50000 [==============================] - 15s 300us/step - loss: 1.8389 - acc: 0.3431\n",
      "Epoch 2/20\n",
      "50000/50000 [==============================] - 15s 291us/step - loss: 1.6577 - acc: 0.4138\n",
      "Epoch 3/20\n",
      "50000/50000 [==============================] - 14s 290us/step - loss: 1.5957 - acc: 0.4402\n",
      "Epoch 4/20\n",
      "50000/50000 [==============================] - 15s 291us/step - loss: 1.5532 - acc: 0.4522\n",
      "Epoch 5/20\n",
      "50000/50000 [==============================] - 15s 292us/step - loss: 1.5177 - acc: 0.4676\n",
      "Epoch 6/20\n",
      "50000/50000 [==============================] - 15s 292us/step - loss: 1.4894 - acc: 0.4758\n",
      "Epoch 7/20\n",
      "50000/50000 [==============================] - 15s 293us/step - loss: 1.4653 - acc: 0.4848\n",
      "Epoch 8/20\n",
      "50000/50000 [==============================] - 15s 292us/step - loss: 1.4403 - acc: 0.4911\n",
      "Epoch 9/20\n",
      "50000/50000 [==============================] - 15s 293us/step - loss: 1.4181 - acc: 0.5004\n",
      "Epoch 10/20\n",
      "50000/50000 [==============================] - 15s 293us/step - loss: 1.3956 - acc: 0.5080\n",
      "Epoch 11/20\n",
      "50000/50000 [==============================] - 15s 292us/step - loss: 1.3763 - acc: 0.5137\n",
      "Epoch 12/20\n",
      "50000/50000 [==============================] - 15s 300us/step - loss: 1.3579 - acc: 0.5220\n",
      "Epoch 13/20\n",
      "50000/50000 [==============================] - 15s 296us/step - loss: 1.3423 - acc: 0.5253\n",
      "Epoch 14/20\n",
      "50000/50000 [==============================] - 15s 295us/step - loss: 1.3232 - acc: 0.5335\n",
      "Epoch 15/20\n",
      "50000/50000 [==============================] - 15s 296us/step - loss: 1.3073 - acc: 0.5400\n",
      "Epoch 16/20\n",
      "50000/50000 [==============================] - 15s 297us/step - loss: 1.2889 - acc: 0.5443\n",
      "Epoch 17/20\n",
      "50000/50000 [==============================] - 15s 301us/step - loss: 1.2751 - acc: 0.5503\n",
      "Epoch 18/20\n",
      "50000/50000 [==============================] - 15s 301us/step - loss: 1.2659 - acc: 0.5523\n",
      "Epoch 19/20\n",
      "50000/50000 [==============================] - 15s 302us/step - loss: 1.2462 - acc: 0.5583\n",
      "Epoch 20/20\n",
      "50000/50000 [==============================] - 15s 300us/step - loss: 1.2336 - acc: 0.5642\n"
     ]
    }
   ],
   "source": [
    "from tensorflow import keras\n",
    "# inicjuję katalog do zapisania historii przebiegu\n",
    "run_logdir = get_run_logdir()\n",
    "# inicjuję odwołanie zwrotne\n",
    "tensorboard_cb = keras.callbacks.TensorBoard(run_logdir)\n",
    "\n",
    "historia = model.fit([X_train_pik, X_train_kier, X_train_trefl, X_train_drop, X_train_sun, x_train_flow, X_train_inf]\n",
    "                   , y_train\n",
    "                   , batch_size=32\n",
    "                   , epochs=20\n",
    "                   , shuffle=True\n",
    "                   , callbacks=[tensorboard_cb])"
   ]
  },
  {
   "cell_type": "code",
   "execution_count": 15,
   "id": "02c8a6ee-35be-41d3-b752-189bd21cf846",
   "metadata": {},
   "outputs": [
    {
     "name": "stdout",
     "output_type": "stream",
     "text": [
      "10000/10000 [==============================] - 1s 58us/step\n"
     ]
    },
    {
     "data": {
      "text/plain": [
       "[1.490622981452942, 0.4979]"
      ]
     },
     "execution_count": 15,
     "metadata": {},
     "output_type": "execute_result"
    }
   ],
   "source": [
    "model.evaluate([X_test_pik, X_test_kier, X_test_trefl, X_test_drop, X_test_sun, x_test_flow, X_test_inf], y_test)"
   ]
  },
  {
   "cell_type": "code",
   "execution_count": 16,
   "id": "e68a7d25-d48c-4257-9f59-ce8083a89ac5",
   "metadata": {},
   "outputs": [],
   "source": [
    "CLASSES = np.array(['airplane', 'automobile', 'bird', 'cat', 'deer', 'dog', 'frog', 'horse', 'ship', 'truck'])\n",
    "\n",
    "preds = model.predict([X_test_pik, X_test_kier, X_test_trefl, X_test_drop, X_test_sun, x_test_flow, X_test_inf])\n",
    "preds_single = CLASSES[np.argmax(preds, axis = -1)]\n",
    "actual_single = CLASSES[np.argmax(y_test, axis = -1)]"
   ]
  },
  {
   "cell_type": "code",
   "execution_count": 17,
   "id": "79607463-4876-466b-b471-8af2fbdbfac8",
   "metadata": {},
   "outputs": [
    {
     "data": {
      "image/png": "[encoded data removed]",
      "text/plain": [
       "<Figure size 1080x216 with 10 Axes>"
      ]
     },
     "metadata": {
      "needs_background": "light"
     },
     "output_type": "display_data"
    }
   ],
   "source": [
    "n_to_show = 10\n",
    "indices = np.random.choice(range(len(x_test)), n_to_show)\n",
    "\n",
    "fig = plt.figure(figsize=(15, 3))\n",
    "fig.subplots_adjust(hspace=0.4, wspace=0.4)\n",
    "\n",
    "for i, idx in enumerate(indices):\n",
    "    img = x_test[idx]\n",
    "    ax = fig.add_subplot(1, n_to_show, i+1)\n",
    "    ax.axis('off')\n",
    "    ax.text(0.5, -0.35, 'pred = ' + str(preds_single[idx]), fontsize=10, ha='center', transform=ax.transAxes) \n",
    "    ax.text(0.5, -0.7, 'act = ' + str(actual_single[idx]), fontsize=10, ha='center', transform=ax.transAxes)\n",
    "    ax.imshow(img)"
   ]
  },
  {
   "cell_type": "code",
   "execution_count": null,
   "id": "de1ee189-2bee-4acb-beb9-fe251dd8be55",
   "metadata": {},
   "outputs": [],
   "source": []
  }
 ],
 "metadata": {
  "kernelspec": {
   "display_name": "generative",
   "language": "python",
   "name": "generative"
  },
  "language_info": {
   "codemirror_mode": {
    "name": "ipython",
    "version": 3
   },
   "file_extension": ".py",
   "mimetype": "text/x-python",
   "name": "python",
   "nbconvert_exporter": "python",
   "pygments_lexer": "ipython3",
   "version": "3.6.13"
  }
 },
 "nbformat": 4,
 "nbformat_minor": 5
}
