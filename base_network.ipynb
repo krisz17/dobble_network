{
 "cells": [
  {
   "cell_type": "markdown",
   "id": "8698fd58-edb2-4a0c-bfe8-749ac8284185",
   "metadata": {},
   "source": [
    "Standardowy model sekwencyjny do porównania z modelem dobble"
   ]
  },
  {
   "cell_type": "code",
   "execution_count": 14,
   "id": "071bcc47-413c-4da9-bd25-be96f13f2932",
   "metadata": {},
   "outputs": [
    {
     "name": "stderr",
     "output_type": "stream",
     "text": [
      "Using TensorFlow backend.\n",
      "W0112 22:19:51.242249 20736 module_wrapper.py:139] From E:\\Python\\Anaconda\\envs\\generative\\lib\\site-packages\\keras\\backend\\tensorflow_backend.py:517: The name tf.placeholder is deprecated. Please use tf.compat.v1.placeholder instead.\n",
      "\n",
      "W0112 22:19:51.256894 20736 module_wrapper.py:139] From E:\\Python\\Anaconda\\envs\\generative\\lib\\site-packages\\keras\\backend\\tensorflow_backend.py:4138: The name tf.random_uniform is deprecated. Please use tf.random.uniform instead.\n",
      "\n"
     ]
    },
    {
     "name": "stdout",
     "output_type": "stream",
     "text": [
      "_________________________________________________________________\n",
      "Layer (type)                 Output Shape              Param #   \n",
      "=================================================================\n",
      "input_1 (InputLayer)         (None, 32, 32, 3)         0         \n",
      "_________________________________________________________________\n",
      "flatten_1 (Flatten)          (None, 3072)              0         \n",
      "_________________________________________________________________\n",
      "dense_1 (Dense)              (None, 200)               614600    \n",
      "_________________________________________________________________\n",
      "dense_2 (Dense)              (None, 150)               30150     \n",
      "_________________________________________________________________\n",
      "dense_3 (Dense)              (None, 10)                1510      \n",
      "=================================================================\n",
      "Total params: 646,260\n",
      "Trainable params: 646,260\n",
      "Non-trainable params: 0\n",
      "_________________________________________________________________\n"
     ]
    }
   ],
   "source": [
    "import numpy as np\n",
    "import matplotlib.pyplot as plt\n",
    "\n",
    "from keras.layers import Input, Flatten, Dense, Conv2D\n",
    "from keras.models import Model\n",
    "from keras.optimizers import Adam\n",
    "from keras.utils import to_categorical\n",
    "\n",
    "from keras.datasets import cifar10\n",
    "\n",
    "#liczba klas\n",
    "NUM_CLASSES = 10\n",
    "\n",
    "#dane\n",
    "(x_train, y_train), (x_test, y_test) = cifar10.load_data()\n",
    "\n",
    "#formatowanie \n",
    "x_train = x_train.astype('float32') / 255.0\n",
    "x_test = x_test.astype('float32') / 255.0\n",
    "\n",
    "y_train = to_categorical(y_train, NUM_CLASSES)\n",
    "y_test = to_categorical(y_test, NUM_CLASSES)\n",
    "\n",
    "# topologia modelu \n",
    "\n",
    "input_layer = Input((32,32,3))\n",
    "x = Flatten()(input_layer)\n",
    "x = Dense(200, activation = 'relu')(x)\n",
    "x = Dense(150, activation = 'relu')(x)\n",
    "output_layer = Dense(NUM_CLASSES, activation = 'softmax')(x)\n",
    "model = Model(input_layer, output_layer)\n",
    "\n",
    "model.summary()"
   ]
  },
  {
   "cell_type": "code",
   "execution_count": 15,
   "id": "420fdce7-e54f-47a7-8a5b-b7b2f2ada907",
   "metadata": {},
   "outputs": [
    {
     "name": "stderr",
     "output_type": "stream",
     "text": [
      "W0112 22:20:05.870485 20736 module_wrapper.py:139] From E:\\Python\\Anaconda\\envs\\generative\\lib\\site-packages\\keras\\optimizers.py:790: The name tf.train.Optimizer is deprecated. Please use tf.compat.v1.train.Optimizer instead.\n",
      "\n",
      "W0112 22:20:05.876764 20736 module_wrapper.py:139] From E:\\Python\\Anaconda\\envs\\generative\\lib\\site-packages\\keras\\backend\\tensorflow_backend.py:3295: The name tf.log is deprecated. Please use tf.math.log instead.\n",
      "\n",
      "W0112 22:20:05.936405 20736 deprecation.py:323] From E:\\Python\\Anaconda\\envs\\generative\\lib\\site-packages\\tensorflow_core\\python\\ops\\math_grad.py:1424: where (from tensorflow.python.ops.array_ops) is deprecated and will be removed in a future version.\n",
      "Instructions for updating:\n",
      "Use tf.where in 2.0, which has the same broadcast rule as np.where\n",
      "W0112 22:20:05.963140 20736 module_wrapper.py:139] From E:\\Python\\Anaconda\\envs\\generative\\lib\\site-packages\\keras\\backend\\tensorflow_backend.py:986: The name tf.assign_add is deprecated. Please use tf.compat.v1.assign_add instead.\n",
      "\n",
      "W0112 22:20:06.006927 20736 module_wrapper.py:139] From E:\\Python\\Anaconda\\envs\\generative\\lib\\site-packages\\keras\\backend\\tensorflow_backend.py:973: The name tf.assign is deprecated. Please use tf.compat.v1.assign instead.\n",
      "\n",
      "W0112 22:20:06.043503 20736 module_wrapper.py:139] From E:\\Python\\Anaconda\\envs\\generative\\lib\\site-packages\\keras\\backend\\tensorflow_backend.py:2741: The name tf.Session is deprecated. Please use tf.compat.v1.Session instead.\n",
      "\n",
      "W0112 22:20:06.154532 20736 module_wrapper.py:139] From E:\\Python\\Anaconda\\envs\\generative\\lib\\site-packages\\keras\\backend\\tensorflow_backend.py:174: The name tf.get_default_session is deprecated. Please use tf.compat.v1.get_default_session instead.\n",
      "\n",
      "W0112 22:20:06.155547 20736 module_wrapper.py:139] From E:\\Python\\Anaconda\\envs\\generative\\lib\\site-packages\\keras\\backend\\tensorflow_backend.py:181: The name tf.ConfigProto is deprecated. Please use tf.compat.v1.ConfigProto instead.\n",
      "\n",
      "W0112 22:20:06.292806 20736 module_wrapper.py:139] From E:\\Python\\Anaconda\\envs\\generative\\lib\\site-packages\\keras\\backend\\tensorflow_backend.py:190: The name tf.global_variables is deprecated. Please use tf.compat.v1.global_variables instead.\n",
      "\n",
      "W0112 22:20:06.292806 20736 module_wrapper.py:139] From E:\\Python\\Anaconda\\envs\\generative\\lib\\site-packages\\keras\\backend\\tensorflow_backend.py:199: The name tf.is_variable_initialized is deprecated. Please use tf.compat.v1.is_variable_initialized instead.\n",
      "\n"
     ]
    },
    {
     "name": "stdout",
     "output_type": "stream",
     "text": [
      "Epoch 1/40\n"
     ]
    },
    {
     "name": "stderr",
     "output_type": "stream",
     "text": [
      "W0112 22:20:06.356812 20736 module_wrapper.py:139] From E:\\Python\\Anaconda\\envs\\generative\\lib\\site-packages\\keras\\backend\\tensorflow_backend.py:206: The name tf.variables_initializer is deprecated. Please use tf.compat.v1.variables_initializer instead.\n",
      "\n"
     ]
    },
    {
     "name": "stdout",
     "output_type": "stream",
     "text": [
      "50000/50000 [==============================] - 10s 199us/step - loss: 1.8510 - acc: 0.3334\n",
      "Epoch 2/40\n",
      "50000/50000 [==============================] - 10s 193us/step - loss: 1.6674 - acc: 0.4025\n",
      "Epoch 3/40\n",
      "50000/50000 [==============================] - 10s 192us/step - loss: 1.5922 - acc: 0.4306\n",
      "Epoch 4/40\n",
      "50000/50000 [==============================] - 10s 195us/step - loss: 1.5385 - acc: 0.4512\n",
      "Epoch 5/40\n",
      "50000/50000 [==============================] - 10s 196us/step - loss: 1.4995 - acc: 0.4655\n",
      "Epoch 6/40\n",
      "50000/50000 [==============================] - 10s 191us/step - loss: 1.4687 - acc: 0.4766\n",
      "Epoch 7/40\n",
      "50000/50000 [==============================] - 10s 197us/step - loss: 1.4443 - acc: 0.4881\n",
      "Epoch 8/40\n",
      "50000/50000 [==============================] - 10s 193us/step - loss: 1.4225 - acc: 0.4950\n",
      "Epoch 9/40\n",
      "50000/50000 [==============================] - 10s 193us/step - loss: 1.4029 - acc: 0.5015\n",
      "Epoch 10/40\n",
      "50000/50000 [==============================] - 10s 193us/step - loss: 1.3854 - acc: 0.5076\n",
      "Epoch 11/40\n",
      "50000/50000 [==============================] - 10s 191us/step - loss: 1.3660 - acc: 0.5172\n",
      "Epoch 12/40\n",
      "50000/50000 [==============================] - 10s 193us/step - loss: 1.3548 - acc: 0.5192\n",
      "Epoch 13/40\n",
      "50000/50000 [==============================] - 10s 190us/step - loss: 1.3421 - acc: 0.5236\n",
      "Epoch 14/40\n",
      "50000/50000 [==============================] - 10s 195us/step - loss: 1.3291 - acc: 0.5297\n",
      "Epoch 15/40\n",
      "50000/50000 [==============================] - 10s 197us/step - loss: 1.3193 - acc: 0.5315\n",
      "Epoch 16/40\n",
      "50000/50000 [==============================] - 10s 192us/step - loss: 1.3119 - acc: 0.5339\n",
      "Epoch 17/40\n",
      "50000/50000 [==============================] - 10s 195us/step - loss: 1.2972 - acc: 0.5395\n",
      "Epoch 18/40\n",
      "50000/50000 [==============================] - 10s 193us/step - loss: 1.2903 - acc: 0.5427\n",
      "Epoch 19/40\n",
      "50000/50000 [==============================] - 10s 193us/step - loss: 1.2834 - acc: 0.5430\n",
      "Epoch 20/40\n",
      "50000/50000 [==============================] - 10s 194us/step - loss: 1.2689 - acc: 0.5502\n",
      "Epoch 21/40\n",
      "50000/50000 [==============================] - 10s 191us/step - loss: 1.2597 - acc: 0.5511\n",
      "Epoch 22/40\n",
      "50000/50000 [==============================] - 10s 194us/step - loss: 1.2526 - acc: 0.5571\n",
      "Epoch 23/40\n",
      "50000/50000 [==============================] - 10s 194us/step - loss: 1.2450 - acc: 0.5586\n",
      "Epoch 24/40\n",
      "50000/50000 [==============================] - 10s 194us/step - loss: 1.2392 - acc: 0.5608\n",
      "Epoch 25/40\n",
      "50000/50000 [==============================] - 10s 196us/step - loss: 1.2308 - acc: 0.5614\n",
      "Epoch 26/40\n",
      "50000/50000 [==============================] - 10s 193us/step - loss: 1.2233 - acc: 0.5637\n",
      "Epoch 27/40\n",
      "50000/50000 [==============================] - 10s 199us/step - loss: 1.2207 - acc: 0.5646\n",
      "Epoch 28/40\n",
      "50000/50000 [==============================] - 10s 195us/step - loss: 1.2131 - acc: 0.5702\n",
      "Epoch 29/40\n",
      "50000/50000 [==============================] - 10s 192us/step - loss: 1.2065 - acc: 0.5683\n",
      "Epoch 30/40\n",
      "50000/50000 [==============================] - 10s 195us/step - loss: 1.2008 - acc: 0.5744\n",
      "Epoch 31/40\n",
      "50000/50000 [==============================] - 10s 192us/step - loss: 1.1935 - acc: 0.5728\n",
      "Epoch 32/40\n",
      "50000/50000 [==============================] - 10s 195us/step - loss: 1.1899 - acc: 0.5772\n",
      "Epoch 33/40\n",
      "50000/50000 [==============================] - 10s 194us/step - loss: 1.1836 - acc: 0.5809\n",
      "Epoch 34/40\n",
      "50000/50000 [==============================] - 10s 192us/step - loss: 1.1790 - acc: 0.5810\n",
      "Epoch 35/40\n",
      "50000/50000 [==============================] - 10s 195us/step - loss: 1.1733 - acc: 0.5843\n",
      "Epoch 36/40\n",
      "50000/50000 [==============================] - 10s 193us/step - loss: 1.1697 - acc: 0.5837\n",
      "Epoch 37/40\n",
      "50000/50000 [==============================] - 10s 194us/step - loss: 1.1610 - acc: 0.5859\n",
      "Epoch 38/40\n",
      "50000/50000 [==============================] - 10s 195us/step - loss: 1.1575 - acc: 0.5901\n",
      "Epoch 39/40\n",
      "50000/50000 [==============================] - 10s 193us/step - loss: 1.1538 - acc: 0.5887\n",
      "Epoch 40/40\n",
      "50000/50000 [==============================] - 10s 195us/step - loss: 1.1547 - acc: 0.5883\n",
      "10000/10000 [==============================] - 0s 25us/step\n"
     ]
    },
    {
     "data": {
      "text/plain": [
       "[1.434983574104309, 0.502]"
      ]
     },
     "execution_count": 15,
     "metadata": {},
     "output_type": "execute_result"
    }
   ],
   "source": [
    "#parametry do wywołania sieci\n",
    "opt = Adam(lr=0.0005)\n",
    "model.compile(loss='categorical_crossentropy', optimizer=opt, metrics=['accuracy'])\n",
    "\n",
    "#funkcja do zapisania historii\n",
    "import os\n",
    "import datetime\n",
    "#print(os.curdir)\n",
    "root_logdir = os.path.join(os.curdir,'historia')\n",
    "\n",
    "def get_run_logdir():\n",
    "    import time\n",
    "    run_id = time.strftime(\"przebieg_%Y_%m_%d-%H_%M_%S\")\n",
    "    return os.path.join(root_logdir,run_id)\n",
    "\n",
    "from tensorflow import keras\n",
    "# inicjuję katalog do zapisania historii przebiegu\n",
    "run_logdir = get_run_logdir()\n",
    "# inicjuję odwołanie zwrotne\n",
    "tensorboard_cb = keras.callbacks.TensorBoard(run_logdir)\n",
    "\n",
    "history = model.fit(x_train\n",
    "                   , y_train\n",
    "                   , batch_size=32\n",
    "                   , epochs=40\n",
    "                   , shuffle=True\n",
    "                   , callbacks=[tensorboard_cb])\n",
    "\n",
    "model.evaluate(x_test, y_test)\n",
    "\n",
    "\n"
   ]
  },
  {
   "cell_type": "code",
   "execution_count": 4,
   "id": "364d4bdf-3692-4d22-9c2a-d7a0ae41d0c8",
   "metadata": {},
   "outputs": [
    {
     "name": "stdout",
     "output_type": "stream",
     "text": [
      "The tensorboard extension is already loaded. To reload it, use:\n",
      "  %reload_ext tensorboard\n"
     ]
    }
   ],
   "source": [
    "%load_ext tensorboard"
   ]
  },
  {
   "cell_type": "code",
   "execution_count": 10,
   "id": "5618961d-b236-4543-9352-0f37e585087c",
   "metadata": {},
   "outputs": [],
   "source": [
    "%reload_ext tensorboard"
   ]
  },
  {
   "cell_type": "code",
   "execution_count": null,
   "id": "d8641ed9-9f2c-4811-8d85-71b53eb1b8e5",
   "metadata": {},
   "outputs": [],
   "source": [
    "%tensorboard --logdir=./historia --port=6007\n",
    "# następnie w przęglądarce uruchamiamy, w momencie gdy uruchamia się powyższe http://localhost:6006/"
   ]
  }
 ],
 "metadata": {
  "kernelspec": {
   "display_name": "generative",
   "language": "python",
   "name": "generative"
  },
  "language_info": {
   "codemirror_mode": {
    "name": "ipython",
    "version": 3
   },
   "file_extension": ".py",
   "mimetype": "text/x-python",
   "name": "python",
   "nbconvert_exporter": "python",
   "pygments_lexer": "ipython3",
   "version": "3.6.13"
  }
 },
 "nbformat": 4,
 "nbformat_minor": 5
}
