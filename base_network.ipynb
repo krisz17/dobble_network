{
 "cells": [
  {
   "cell_type": "markdown",
   "id": "8698fd58-edb2-4a0c-bfe8-749ac8284185",
   "metadata": {},
   "source": [
    "Standardowy model sekwencyjny do porównania z modelem dobble"
   ]
  },
  {
   "cell_type": "code",
   "execution_count": 1,
   "id": "071bcc47-413c-4da9-bd25-be96f13f2932",
   "metadata": {},
   "outputs": [
    {
     "name": "stderr",
     "output_type": "stream",
     "text": [
      "Using TensorFlow backend.\n",
      "WARNING: Logging before flag parsing goes to stderr.\n",
      "W0112 00:33:06.976101 28484 module_wrapper.py:139] From E:\\Python\\Anaconda\\envs\\generative\\lib\\site-packages\\keras\\backend\\tensorflow_backend.py:517: The name tf.placeholder is deprecated. Please use tf.compat.v1.placeholder instead.\n",
      "\n",
      "W0112 00:33:06.988277 28484 module_wrapper.py:139] From E:\\Python\\Anaconda\\envs\\generative\\lib\\site-packages\\keras\\backend\\tensorflow_backend.py:4138: The name tf.random_uniform is deprecated. Please use tf.random.uniform instead.\n",
      "\n"
     ]
    },
    {
     "name": "stdout",
     "output_type": "stream",
     "text": [
      "_________________________________________________________________\n",
      "Layer (type)                 Output Shape              Param #   \n",
      "=================================================================\n",
      "input_1 (InputLayer)         (None, 32, 32, 3)         0         \n",
      "_________________________________________________________________\n",
      "flatten_1 (Flatten)          (None, 3072)              0         \n",
      "_________________________________________________________________\n",
      "dense_1 (Dense)              (None, 200)               614600    \n",
      "_________________________________________________________________\n",
      "dense_2 (Dense)              (None, 150)               30150     \n",
      "_________________________________________________________________\n",
      "dense_3 (Dense)              (None, 10)                1510      \n",
      "=================================================================\n",
      "Total params: 646,260\n",
      "Trainable params: 646,260\n",
      "Non-trainable params: 0\n",
      "_________________________________________________________________\n"
     ]
    }
   ],
   "source": [
    "import numpy as np\n",
    "import matplotlib.pyplot as plt\n",
    "\n",
    "from keras.layers import Input, Flatten, Dense, Conv2D\n",
    "from keras.models import Model\n",
    "from keras.optimizers import Adam\n",
    "from keras.utils import to_categorical\n",
    "\n",
    "from keras.datasets import cifar10\n",
    "\n",
    "#liczba klas\n",
    "NUM_CLASSES = 10\n",
    "\n",
    "#dane\n",
    "(x_train, y_train), (x_test, y_test) = cifar10.load_data()\n",
    "\n",
    "#formatowanie \n",
    "x_train = x_train.astype('float32') / 255.0\n",
    "x_test = x_test.astype('float32') / 255.0\n",
    "\n",
    "y_train = to_categorical(y_train, NUM_CLASSES)\n",
    "y_test = to_categorical(y_test, NUM_CLASSES)\n",
    "\n",
    "# topologia modelu \n",
    "\n",
    "input_layer = Input((32,32,3))\n",
    "x = Flatten()(input_layer)\n",
    "x = Dense(200, activation = 'relu')(x)\n",
    "x = Dense(150, activation = 'relu')(x)\n",
    "output_layer = Dense(NUM_CLASSES, activation = 'softmax')(x)\n",
    "model = Model(input_layer, output_layer)\n",
    "\n",
    "model.summary()"
   ]
  },
  {
   "cell_type": "code",
   "execution_count": 2,
   "id": "420fdce7-e54f-47a7-8a5b-b7b2f2ada907",
   "metadata": {},
   "outputs": [
    {
     "name": "stderr",
     "output_type": "stream",
     "text": [
      "W0112 00:33:15.031198 28484 module_wrapper.py:139] From E:\\Python\\Anaconda\\envs\\generative\\lib\\site-packages\\keras\\optimizers.py:790: The name tf.train.Optimizer is deprecated. Please use tf.compat.v1.train.Optimizer instead.\n",
      "\n",
      "W0112 00:33:15.037214 28484 module_wrapper.py:139] From E:\\Python\\Anaconda\\envs\\generative\\lib\\site-packages\\keras\\backend\\tensorflow_backend.py:3295: The name tf.log is deprecated. Please use tf.math.log instead.\n",
      "\n",
      "W0112 00:33:15.087781 28484 deprecation.py:323] From E:\\Python\\Anaconda\\envs\\generative\\lib\\site-packages\\tensorflow_core\\python\\ops\\math_grad.py:1424: where (from tensorflow.python.ops.array_ops) is deprecated and will be removed in a future version.\n",
      "Instructions for updating:\n",
      "Use tf.where in 2.0, which has the same broadcast rule as np.where\n",
      "W0112 00:33:15.115302 28484 module_wrapper.py:139] From E:\\Python\\Anaconda\\envs\\generative\\lib\\site-packages\\keras\\backend\\tensorflow_backend.py:986: The name tf.assign_add is deprecated. Please use tf.compat.v1.assign_add instead.\n",
      "\n",
      "W0112 00:33:15.160014 28484 module_wrapper.py:139] From E:\\Python\\Anaconda\\envs\\generative\\lib\\site-packages\\keras\\backend\\tensorflow_backend.py:973: The name tf.assign is deprecated. Please use tf.compat.v1.assign instead.\n",
      "\n",
      "W0112 00:33:15.196324 28484 module_wrapper.py:139] From E:\\Python\\Anaconda\\envs\\generative\\lib\\site-packages\\keras\\backend\\tensorflow_backend.py:2741: The name tf.Session is deprecated. Please use tf.compat.v1.Session instead.\n",
      "\n",
      "W0112 00:33:15.246466 28484 module_wrapper.py:139] From E:\\Python\\Anaconda\\envs\\generative\\lib\\site-packages\\keras\\backend\\tensorflow_backend.py:174: The name tf.get_default_session is deprecated. Please use tf.compat.v1.get_default_session instead.\n",
      "\n",
      "W0112 00:33:15.247464 28484 module_wrapper.py:139] From E:\\Python\\Anaconda\\envs\\generative\\lib\\site-packages\\keras\\backend\\tensorflow_backend.py:181: The name tf.ConfigProto is deprecated. Please use tf.compat.v1.ConfigProto instead.\n",
      "\n",
      "W0112 00:33:15.362004 28484 module_wrapper.py:139] From E:\\Python\\Anaconda\\envs\\generative\\lib\\site-packages\\keras\\backend\\tensorflow_backend.py:190: The name tf.global_variables is deprecated. Please use tf.compat.v1.global_variables instead.\n",
      "\n",
      "W0112 00:33:15.363003 28484 module_wrapper.py:139] From E:\\Python\\Anaconda\\envs\\generative\\lib\\site-packages\\keras\\backend\\tensorflow_backend.py:199: The name tf.is_variable_initialized is deprecated. Please use tf.compat.v1.is_variable_initialized instead.\n",
      "\n",
      "W0112 00:33:15.395785 28484 module_wrapper.py:139] From E:\\Python\\Anaconda\\envs\\generative\\lib\\site-packages\\keras\\backend\\tensorflow_backend.py:206: The name tf.variables_initializer is deprecated. Please use tf.compat.v1.variables_initializer instead.\n",
      "\n"
     ]
    },
    {
     "name": "stdout",
     "output_type": "stream",
     "text": [
      "Epoch 1/20\n",
      "50000/50000 [==============================] - 10s 202us/step - loss: 1.8353 - acc: 0.3373\n",
      "Epoch 2/20\n",
      "50000/50000 [==============================] - 10s 190us/step - loss: 1.6600 - acc: 0.4067\n",
      "Epoch 3/20\n",
      "50000/50000 [==============================] - 10s 191us/step - loss: 1.5795 - acc: 0.4361\n",
      "Epoch 4/20\n",
      "50000/50000 [==============================] - 10s 192us/step - loss: 1.5262 - acc: 0.4567\n",
      "Epoch 5/20\n",
      "50000/50000 [==============================] - 9s 190us/step - loss: 1.4899 - acc: 0.4701\n",
      "Epoch 6/20\n",
      "50000/50000 [==============================] - 10s 193us/step - loss: 1.4537 - acc: 0.4818\n",
      "Epoch 7/20\n",
      "50000/50000 [==============================] - 10s 191us/step - loss: 1.4289 - acc: 0.4901\n",
      "Epoch 8/20\n",
      "50000/50000 [==============================] - 10s 192us/step - loss: 1.4019 - acc: 0.5021\n",
      "Epoch 9/20\n",
      "50000/50000 [==============================] - 10s 193us/step - loss: 1.3776 - acc: 0.5106\n",
      "Epoch 10/20\n",
      "50000/50000 [==============================] - 9s 190us/step - loss: 1.3585 - acc: 0.5176\n",
      "Epoch 11/20\n",
      "50000/50000 [==============================] - 10s 194us/step - loss: 1.3354 - acc: 0.5241\n",
      "Epoch 12/20\n",
      "50000/50000 [==============================] - 10s 191us/step - loss: 1.3204 - acc: 0.5298\n",
      "Epoch 13/20\n",
      "50000/50000 [==============================] - 10s 193us/step - loss: 1.3013 - acc: 0.5392\n",
      "Epoch 14/20\n",
      "50000/50000 [==============================] - 10s 193us/step - loss: 1.2873 - acc: 0.5416\n",
      "Epoch 15/20\n",
      "50000/50000 [==============================] - 10s 191us/step - loss: 1.2692 - acc: 0.5477\n",
      "Epoch 16/20\n",
      "50000/50000 [==============================] - 10s 194us/step - loss: 1.2540 - acc: 0.5538\n",
      "Epoch 17/20\n",
      "50000/50000 [==============================] - 10s 196us/step - loss: 1.2481 - acc: 0.5544\n",
      "Epoch 18/20\n",
      "50000/50000 [==============================] - 10s 194us/step - loss: 1.2311 - acc: 0.5630\n",
      "Epoch 19/20\n",
      "50000/50000 [==============================] - 10s 196us/step - loss: 1.2242 - acc: 0.5639\n",
      "Epoch 20/20\n",
      "50000/50000 [==============================] - 10s 193us/step - loss: 1.2083 - acc: 0.5711\n",
      "10000/10000 [==============================] - 0s 27us/step\n"
     ]
    },
    {
     "data": {
      "text/plain": [
       "[1.3915036979675293, 0.5059]"
      ]
     },
     "execution_count": 2,
     "metadata": {},
     "output_type": "execute_result"
    }
   ],
   "source": [
    "#parametry do wywołania sieci\n",
    "opt = Adam(lr=0.0005)\n",
    "model.compile(loss='categorical_crossentropy', optimizer=opt, metrics=['accuracy'])\n",
    "\n",
    "#funkcja do zapisania historii\n",
    "import os\n",
    "import datetime\n",
    "#print(os.curdir)\n",
    "root_logdir = os.path.join(os.curdir,'historia')\n",
    "\n",
    "def get_run_logdir():\n",
    "    import time\n",
    "    run_id = time.strftime(\"przebieg_%Y_%m_%d-%H_%M_%S\")\n",
    "    return os.path.join(root_logdir,run_id)\n",
    "\n",
    "from tensorflow import keras\n",
    "# inicjuję katalog do zapisania historii przebiegu\n",
    "run_logdir = get_run_logdir()\n",
    "# inicjuję odwołanie zwrotne\n",
    "tensorboard_cb = keras.callbacks.TensorBoard(run_logdir)\n",
    "\n",
    "history = model.fit(x_train\n",
    "                   , y_train\n",
    "                   , batch_size=32\n",
    "                   , epochs=20\n",
    "                   , shuffle=True\n",
    "                   , callbacks=[tensorboard_cb])\n",
    "\n",
    "model.evaluate(x_test, y_test)\n",
    "\n",
    "\n"
   ]
  },
  {
   "cell_type": "code",
   "execution_count": 3,
   "id": "364d4bdf-3692-4d22-9c2a-d7a0ae41d0c8",
   "metadata": {},
   "outputs": [],
   "source": [
    "%load_ext tensorboard"
   ]
  },
  {
   "cell_type": "code",
   "execution_count": 4,
   "id": "d8641ed9-9f2c-4811-8d85-71b53eb1b8e5",
   "metadata": {},
   "outputs": [
    {
     "data": {
      "text/plain": [
       "ERROR: Timed out waiting for TensorBoard to start. It may still be running as pid 18684."
      ]
     },
     "metadata": {},
     "output_type": "display_data"
    }
   ],
   "source": [
    "%tensorboard --logdir=./historia --port=6006\n",
    "# następnie w przęglądarce uruchamiamy, w momencie gdy uruchamia się powyższe http://localhost:6006/"
   ]
  }
 ],
 "metadata": {
  "kernelspec": {
   "display_name": "generative",
   "language": "python",
   "name": "generative"
  },
  "language_info": {
   "codemirror_mode": {
    "name": "ipython",
    "version": 3
   },
   "file_extension": ".py",
   "mimetype": "text/x-python",
   "name": "python",
   "nbconvert_exporter": "python",
   "pygments_lexer": "ipython3",
   "version": "3.6.13"
  }
 },
 "nbformat": 4,
 "nbformat_minor": 5
}
